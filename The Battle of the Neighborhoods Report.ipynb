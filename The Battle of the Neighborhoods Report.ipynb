{
 "cells": [
  {
   "cell_type": "markdown",
   "metadata": {},
   "source": [
    "## The Battle of the Neighborhoods - Week 1"
   ]
  },
  {
   "cell_type": "markdown",
   "metadata": {},
   "source": [
    "\n",
    "### Introduction & Business Problem :\n",
    "#### Problem Background:\n",
    "Dubai city, is that the most thickly settled city within the UAE. it's multicultural. It provides ton of business opportunities and business friendly environment. it's attracted many alternative players into the market. it's a world hub of business and commerce. the town may be a major center for banking and finance, retailing, world trade, transportation, tourism, real estate, new media, ancient media, advertising, legal services, accountancy, insurance, theater, fashion, and therefore the arts in the UAE.\n",
    "\n",
    "This also means the market is very competitive. because it is highly developed city so price of doing business is additionally one of the highest. Thus, any new business venture or growth has to be analyzed carefully. The insights derived from analysis will offer sensible understanding of the business atmosphere that facilitate in strategically targeting the market. this can help in reduction of risk. and therefore the come back on Investment are going to be reasonable.\n",
    "\n",
    "#### Problem Description:\n",
    "An agent, hired me to find out which type of business would be good to invest in Duabi, and asked me to pick a location for that business.\n",
    "\n",
    "To do that. Various factors need to be studied in order to decide on the Location such as :\n",
    "<ol>\n",
    "    <li> Neighborhoods Population</li>\n",
    "    <li> Duabi Demographics</li>\n",
    "    <li> Locations in Dubai</li>\n",
    "    <li> Startup costs.</li>\n",
    "    <li> Capital and Finance</li>\n",
    "    <li> Compititions </li>\n",
    "    </ol>\n",
    "    \n",
    "Even though well funded agent. need to choose the correct location to start its first venture.If this is successful they can replicate the same in other locations. First move is very important, thereby choice of location is very important.\n",
    "\n",
    "##### Target Audience:\n",
    "To advocate the right location. Agent has appointed Pine Tree State to guide of the information Science team. the target is to find and recommend to the management that neighborhood of metropolis are going to be most suitable option to begin a replacement business. The Management additionally expects to know the principle of the recommendations made.\n",
    "\n",
    "This would interest anyone who wants to start a new business in Dubai.\n",
    "\n",
    "#### Success Criteria:\n",
    "The fulfillment standards of the undertaking can be a terrific advice of borough/Neighborhood preference to retailers primarily based totally on Lack of such funding in that area and nearest providers of ingredients."
   ]
  },
  {
   "cell_type": "code",
   "execution_count": null,
   "metadata": {},
   "outputs": [],
   "source": []
  }
 ],
 "metadata": {
  "kernelspec": {
   "display_name": "Python 3",
   "language": "python",
   "name": "python3"
  },
  "language_info": {
   "codemirror_mode": {
    "name": "ipython",
    "version": 3
   },
   "file_extension": ".py",
   "mimetype": "text/x-python",
   "name": "python",
   "nbconvert_exporter": "python",
   "pygments_lexer": "ipython3",
   "version": "3.8.5"
  }
 },
 "nbformat": 4,
 "nbformat_minor": 4
}
